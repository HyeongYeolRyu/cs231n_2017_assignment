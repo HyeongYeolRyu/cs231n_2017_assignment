{
 "cells": [
  {
   "cell_type": "code",
   "execution_count": 2,
   "metadata": {},
   "outputs": [],
   "source": [
    "%matplotlib inline"
   ]
  },
  {
   "cell_type": "markdown",
   "metadata": {},
   "source": [
    "## PyTorch Basics\n",
    "### What is PyTorch?\n",
    "It is a **replacement for NumPy** to use the power of GPUs, and a **deep learning research platform** that provides maximum flexibility and speed ([source](https://pytorch.org/tutorials/beginner/blitz/tensor_tutorial.html#sphx-glr-beginner-blitz-tensor-tutorial-py)).\n",
    "\n",
    "You can create a [PyTorch tensor](https://pytorch.org/docs/stable/tensors.html) in a similary way that you create a NumPy ndarray:"
   ]
  },
  {
   "cell_type": "code",
   "execution_count": 1,
   "metadata": {},
   "outputs": [
    {
     "name": "stdout",
     "output_type": "stream",
     "text": [
      "torch version: 1.1.0\n",
      "\n",
      "Create a zero ndarray in NumPy:\n",
      "[[0. 0. 0.]\n",
      " [0. 0. 0.]]\n",
      "\n",
      "Create a zero tensor in PyTorch:\n",
      "tensor([[0., 0., 0.],\n",
      "        [0., 0., 0.]])\n"
     ]
    }
   ],
   "source": [
    "import numpy as np\n",
    "import torch\n",
    "print(\"torch version:\", torch.__version__) # please use pytorch 1.0\n",
    "\n",
    "print('\\nCreate a zero ndarray in NumPy:')\n",
    "zero_np = np.zeros([2, 3])\n",
    "print(zero_np)\n",
    "print('\\nCreate a zero tensor in PyTorch:')\n",
    "zero_pt = torch.zeros([2,3])\n",
    "print(zero_pt)"
   ]
  },
  {
   "cell_type": "markdown",
   "metadata": {},
   "source": [
    "You can index into the tensor the same way you index a ndarray:"
   ]
  },
  {
   "cell_type": "code",
   "execution_count": 3,
   "metadata": {
    "scrolled": true
   },
   "outputs": [
    {
     "name": "stdout",
     "output_type": "stream",
     "text": [
      "numpy: zero_np[0,1]: 0.0\t(type: <class 'numpy.float64'>)\n",
      "torch: zero_pt[0,1]: tensor(0.)\t(type: <class 'torch.Tensor'> / shape: torch.Size([]))\n",
      "       zero_pt[0,1].item(): 0.0\t(type: <class 'float'>)\n"
     ]
    }
   ],
   "source": [
    "print(\"numpy: zero_np[0,1]: {}\\t(type: {})\".format(str(zero_np[0,1]), type(zero_np[0,1])))\n",
    "print(\"torch: zero_pt[0,1]: {}\\t(type: {} / shape: {})\".format(str(zero_pt[0,1]), type(zero_pt[0,1]), zero_pt[0,1].shape))\n",
    "# Use \"item()\" to get a Python number from a single-valued tensor.\n",
    "print(\"       zero_pt[0,1].item(): {}\\t(type: {})\".format(zero_pt[0,1].item(), type(zero_pt[0,1].item())))"
   ]
  },
  {
   "cell_type": "markdown",
   "metadata": {},
   "source": [
    "A ndarray can be turned into a tensor, and vice versa:"
   ]
  },
  {
   "cell_type": "code",
   "execution_count": 4,
   "metadata": {},
   "outputs": [
    {
     "name": "stdout",
     "output_type": "stream",
     "text": [
      "Turn a ndarray into a tensor with \"torch.tensor()\":\n",
      "tensor([[0., 0., 0.],\n",
      "        [0., 0., 0.]], dtype=torch.float64)\n",
      "or \"torch.from_numpy():\"\n",
      "tensor([[0., 0., 0.],\n",
      "        [0., 0., 0.]], dtype=torch.float64)\n",
      "\n",
      "Turn a tensor into ndarray with \".numpy()\":\n",
      "[[0. 0. 0.]\n",
      " [0. 0. 0.]]\n",
      "<class 'numpy.ndarray'>\n"
     ]
    }
   ],
   "source": [
    "print('Turn a ndarray into a tensor with \"torch.tensor()\":')\n",
    "zero_pt_from_np = torch.tensor(zero_np)\n",
    "print(zero_pt_from_np)\n",
    "print('or \"torch.from_numpy():\"')\n",
    "zero_pt_from_np = torch.from_numpy(zero_np)\n",
    "print(zero_pt_from_np)\n",
    "\n",
    "print('\\nTurn a tensor into ndarray with \".numpy()\":')\n",
    "zero_np_from_pt = zero_pt.numpy()\n",
    "print(zero_np_from_pt)\n",
    "print(type(zero_np_from_pt))"
   ]
  },
  {
   "cell_type": "markdown",
   "metadata": {},
   "source": [
    "The design of PyTorch allows it to better utilize GPUs. Upon creation, a PyTorch tensor resides on the CPU. You can move a tensor across devices using `.to()`:"
   ]
  },
  {
   "cell_type": "code",
   "execution_count": 5,
   "metadata": {},
   "outputs": [
    {
     "name": "stdout",
     "output_type": "stream",
     "text": [
      "Initial device:\t'cpu'\n"
     ]
    }
   ],
   "source": [
    "t = torch.randn(2)\n",
    "print(\"Initial device:\\t'{}'\".format(t.device))"
   ]
  },
  {
   "cell_type": "code",
   "execution_count": 6,
   "metadata": {},
   "outputs": [
    {
     "name": "stdout",
     "output_type": "stream",
     "text": [
      "Move to gpu:\t'cuda:0'\n"
     ]
    }
   ],
   "source": [
    "t = t.to('cuda:0')\n",
    "print(\"Move to gpu:\\t'{}'\".format(t.device))"
   ]
  },
  {
   "cell_type": "code",
   "execution_count": 7,
   "metadata": {},
   "outputs": [
    {
     "name": "stdout",
     "output_type": "stream",
     "text": [
      "Back to cpu:\t'cpu'\n"
     ]
    },
    {
     "data": {
      "text/plain": [
       "array([ 0.02779579, -1.1638168 ], dtype=float32)"
      ]
     },
     "execution_count": 7,
     "metadata": {},
     "output_type": "execute_result"
    }
   ],
   "source": [
    "t = t.to('cpu')\n",
    "print(\"Back to cpu:\\t'{}'\".format(t.device))\n",
    "# Why bother?\n",
    "t.numpy()"
   ]
  },
  {
   "cell_type": "markdown",
   "metadata": {},
   "source": [
    "\n",
    "Training an MNIST Classifier\n",
    "=====\n",
    "## Custom Dataset, Model Checkpointing, and Fine-tune"
   ]
  },
  {
   "cell_type": "code",
   "execution_count": 9,
   "metadata": {},
   "outputs": [],
   "source": [
    "import torch.nn as nn            # containing various building blocks for your neural networks\n",
    "import torch.optim as optim      # implementing various optimization algorithms\n",
    "import torch.nn.functional as F  # a lower level (compared to torch.nn) interface\n",
    "\n",
    "# torchvision: popular datasets, model architectures, and common image transformations for computer vision.\n",
    "import torchvision\n",
    "# transforms: transformations useful for image processing\n",
    "import torchvision.transforms as transforms\n",
    "\n",
    "from torch.utils.data import Dataset, DataLoader\n",
    "\n",
    "import glob\n",
    "import os.path as osp\n",
    "import numpy as np\n",
    "from PIL import Image"
   ]
  },
  {
   "cell_type": "markdown",
   "metadata": {},
   "source": [
    "## 1. Custom Dataset\n",
    "PyTorch has many built-in datasets such as MNIST and CIFAR. In this tutorial, we demonstrate how to write your own dataset by implementing a custom MNIST dataset class. Use [this link](https://github.com/myleott/mnist_png/blob/master/mnist_png.tar.gz?raw=true) to download the mnist png dataset.\n",
    "\n",
    "If you are on GCloud, you can run these commands:\n",
    "\n",
    "`wget https://github.com/myleott/mnist_png/blob/master/mnist_png.tar.gz?raw=true`\n",
    "\n",
    "`mv mnist_png.tar.gz?raw=true mnist_png.tar.gz`\n",
    "\n",
    "`tar -xzf mnist_png.tar.gz`"
   ]
  },
  {
   "cell_type": "code",
   "execution_count": 12,
   "metadata": {},
   "outputs": [],
   "source": [
    "class MNIST(Dataset):\n",
    "    \"\"\"\n",
    "    A customized data loader for MNIST.\n",
    "    \"\"\"\n",
    "    def __init__(self,\n",
    "                 root,\n",
    "                 transform=None,\n",
    "                 preload=False):\n",
    "        \"\"\" Intialize the MNIST dataset\n",
    "        \n",
    "        Args:\n",
    "            - root: root directory of the dataset\n",
    "            - tranform: a custom tranform function\n",
    "            - preload: if preload the dataset into memory\n",
    "        \"\"\"\n",
    "        self.images = None\n",
    "        self.labels = None\n",
    "        self.filenames = []\n",
    "        self.root = root\n",
    "        self.transform = transform\n",
    "\n",
    "        # read filenames\n",
    "        for i in range(10):\n",
    "            filenames = glob.glob(osp.join(root, str(i), '*.png'))\n",
    "            for fn in filenames:\n",
    "                self.filenames.append((fn, i)) # (filename, label) pair\n",
    "                \n",
    "        # if preload dataset into memory\n",
    "        if preload:\n",
    "            self._preload()\n",
    "            \n",
    "        self.len = len(self.filenames)\n",
    "                              \n",
    "    def _preload(self):\n",
    "        \"\"\"\n",
    "        Preload dataset to memory\n",
    "        \"\"\"\n",
    "        self.labels = []\n",
    "        self.images = []\n",
    "        for image_fn, label in self.filenames:            \n",
    "            # load images\n",
    "            image = Image.open(image_fn)\n",
    "            self.images.append(image.copy())\n",
    "            # avoid too many opened files bug\n",
    "            image.close()\n",
    "            self.labels.append(label)\n",
    "\n",
    "    # probably the most important to customize.\n",
    "    def __getitem__(self, index):\n",
    "        \"\"\" Get a sample from the dataset\n",
    "        \"\"\"\n",
    "        if self.images is not None:\n",
    "            # If dataset is preloaded\n",
    "            image = self.images[index]\n",
    "            label = self.labels[index]\n",
    "        else:\n",
    "            # If on-demand data loading\n",
    "            image_fn, label = self.filenames[index]\n",
    "            image = Image.open(image_fn)\n",
    "            \n",
    "        # May use transform function to transform samples\n",
    "        # e.g., random crop, whitening\n",
    "        if self.transform is not None:\n",
    "            image = self.transform(image)\n",
    "        # return image and label\n",
    "        return image, label\n",
    "\n",
    "    def __len__(self):\n",
    "        \"\"\"\n",
    "        Total number of samples in the dataset\n",
    "        \"\"\"\n",
    "        return self.len"
   ]
  },
  {
   "cell_type": "code",
   "execution_count": 13,
   "metadata": {},
   "outputs": [],
   "source": [
    "# Create the MNIST dataset. \n",
    "# transforms.ToTensor() automatically converts PIL images to\n",
    "# torch tensors with range [0, 1]\n",
    "trainset = MNIST(\n",
    "    root='mnist_png/training',\n",
    "    preload=True, transform=transforms.ToTensor(),\n",
    ")\n",
    "\n",
    "# Use the torch dataloader to iterate through the dataset\n",
    "# We want the dataset to be shuffled during training.\n",
    "trainset_loader = DataLoader(trainset, batch_size=64, shuffle=True, num_workers=1)\n",
    "\n",
    "# Load the testset\n",
    "testset = MNIST(\n",
    "    root='mnist_png/testing',\n",
    "    preload=True, transform=transforms.ToTensor(),\n",
    ")\n",
    "# Use the torch dataloader to iterate through the dataset\n",
    "testset_loader = DataLoader(testset, batch_size=1000, shuffle=False, num_workers=1)"
   ]
  },
  {
   "cell_type": "code",
   "execution_count": 24,
   "metadata": {},
   "outputs": [
    {
     "name": "stdout",
     "output_type": "stream",
     "text": [
      "60000\n",
      "10000\n"
     ]
    }
   ],
   "source": [
    "print(len(trainset)) # len = 60000\n",
    "print(len(testset))  # len = 10000"
   ]
  },
  {
   "cell_type": "markdown",
   "metadata": {},
   "source": [
    "### Visualize the dataset"
   ]
  },
  {
   "cell_type": "code",
   "execution_count": 27,
   "metadata": {},
   "outputs": [
    {
     "name": "stdout",
     "output_type": "stream",
     "text": [
      "tensor(8) tensor(7) tensor(2) tensor(6) tensor(0) tensor(9) tensor(1) tensor(7) tensor(7) tensor(9) tensor(9) tensor(6) tensor(3) tensor(2) tensor(3) tensor(8)\n"
     ]
    },
    {
     "data": {
      "image/png": "[encoded data removed]",
      "text/plain": [
       "<Figure size 432x288 with 1 Axes>"
      ]
     },
     "metadata": {
      "needs_background": "light"
     },
     "output_type": "display_data"
    }
   ],
   "source": [
    "import matplotlib.pyplot as plt\n",
    "\n",
    "# functions to show an image\n",
    "def imshow(img):\n",
    "    npimg = img.numpy()\n",
    "    plt.imshow(np.transpose(npimg, (1, 2, 0)))\n",
    "\n",
    "# get some random training images\n",
    "dataiter = iter(trainset_loader)\n",
    "images, labels = dataiter.next()\n",
    "\n",
    "# show images\n",
    "imshow(torchvision.utils.make_grid(images))\n",
    "# print labels\n",
    "print(' '.join('%5s' % labels[j] for j in range(16)))"
   ]
  },
  {
   "cell_type": "code",
   "execution_count": 28,
   "metadata": {},
   "outputs": [
    {
     "name": "stdout",
     "output_type": "stream",
     "text": [
      "cuda\n"
     ]
    }
   ],
   "source": [
    "# Use GPU if available, otherwise stick with cpu\n",
    "use_cuda = torch.cuda.is_available()\n",
    "torch.manual_seed(123)\n",
    "device = torch.device(\"cuda\" if use_cuda else \"cpu\")\n",
    "print(device)"
   ]
  },
  {
   "cell_type": "markdown",
   "metadata": {},
   "source": [
    "### Define a Conv Net\n"
   ]
  },
  {
   "cell_type": "code",
   "execution_count": 29,
   "metadata": {},
   "outputs": [],
   "source": [
    "class Net(nn.Module):\n",
    "    def __init__(self):\n",
    "        super(Net, self).__init__()\n",
    "        \n",
    "        # Conv2d(in_channels, out_channels, kernel_size, stride=1, padding=0,\n",
    "        #        dilation=1, groups=1, bias=True, padding_mode='zeros')\n",
    "        self.conv1 = nn.Conv2d(1, 10, kernel_size=5)\n",
    "        self.conv2 = nn.Conv2d(10, 20, kernel_size=5)\n",
    "        self.conv2_drop = nn.Dropout2d()\n",
    "        \n",
    "        # Linear(in_features, out_features, bias=True)\n",
    "        self.fc1 = nn.Linear(320, 50)\n",
    "        self.fc2 = nn.Linear(50, 10)\n",
    "        \n",
    "        # MaxPool2d(kernel_size, stride=None, padding=0, dilation=1, return_indices=False, ceil_mode=False)\n",
    "        self.max_pool = nn.MaxPool2d(2)\n",
    "        # ReLU(inplace=False)\n",
    "        self.relu = nn.ReLU()\n",
    "\n",
    "    def forward(self, x):\n",
    "        # Note: the following two ways for max pooling / relu are equivalent.\n",
    "        # 1) with torch.nn.functional:\n",
    "        x = F.relu(F.max_pool2d(self.conv1(x), 2))\n",
    "        # 2) with torch.nn:\n",
    "        x = self.relu(self.max_pool(self.conv2_drop(self.conv2(x))))\n",
    "        x = x.view(-1, 320)\n",
    "        x = F.relu(self.fc1(x))\n",
    "        x = F.dropout(x, training=self.training)\n",
    "        x = self.fc2(x)\n",
    "        return F.log_softmax(x, dim=1)\n",
    "\n",
    "model = Net().to(device)\n",
    "optimizer = optim.SGD(model.parameters(), lr=0.001, momentum=0.9)"
   ]
  },
  {
   "cell_type": "markdown",
   "metadata": {},
   "source": [
    "### Train the network"
   ]
  },
  {
   "cell_type": "code",
   "execution_count": 30,
   "metadata": {},
   "outputs": [],
   "source": [
    "from time import time\n",
    "def train(epoch, log_interval=100):\n",
    "    model.train()  # set training mode\n",
    "    iteration = 0\n",
    "    for ep in range(epoch):\n",
    "        start = time()\n",
    "        for batch_idx, (data, target) in enumerate(trainset_loader):\n",
    "            # bring data to the computing device, e.g. GPU\n",
    "            data, target = data.to(device), target.to(device)\n",
    "\n",
    "            # forward pass\n",
    "            output = model(data)\n",
    "            # compute loss: negative log-likelihood\n",
    "            loss = F.nll_loss(output, target)\n",
    "            \n",
    "            # backward pass\n",
    "            # clear the gradients of all tensors being optimized.\n",
    "            optimizer.zero_grad()\n",
    "            # accumulate (i.e. add) the gradients from this forward pass\n",
    "            loss.backward()\n",
    "            # performs a single optimization step (parameter update)\n",
    "            optimizer.step()\n",
    "            \n",
    "            if iteration % log_interval == 0:\n",
    "                print('Train Epoch: {} [{}/{} ({:.0f}%)]\\tLoss: {:.6f}'.format(\n",
    "                    ep, batch_idx * len(data), len(trainset_loader.dataset),\n",
    "                    100. * batch_idx / len(trainset_loader), loss.item()))\n",
    "            iteration += 1\n",
    "            \n",
    "        end = time()\n",
    "        print('{:.2f}s'.format(end-start))\n",
    "        test() # evaluate at the end of epoch"
   ]
  },
  {
   "cell_type": "code",
   "execution_count": 31,
   "metadata": {},
   "outputs": [],
   "source": [
    "def test():\n",
    "    model.eval()  # set evaluation mode\n",
    "    test_loss = 0\n",
    "    correct = 0\n",
    "    with torch.no_grad():\n",
    "        for data, target in testset_loader:\n",
    "            data, target = data.to(device), target.to(device)\n",
    "            output = model(data)\n",
    "            test_loss += F.nll_loss(output, target, size_average=False).item() # sum up batch loss\n",
    "            pred = output.max(1, keepdim=True)[1] # get the index of the max log-probability\n",
    "            correct += pred.eq(target.view_as(pred)).sum().item()\n",
    "\n",
    "    test_loss /= len(testset_loader.dataset)\n",
    "    print('\\nTest set: Average loss: {:.4f}, Accuracy: {}/{} ({:.0f}%)\\n'.format(\n",
    "        test_loss, correct, len(testset_loader.dataset),\n",
    "        100. * correct / len(testset_loader.dataset)))"
   ]
  },
  {
   "cell_type": "code",
   "execution_count": 32,
   "metadata": {},
   "outputs": [
    {
     "name": "stdout",
     "output_type": "stream",
     "text": [
      "Train Epoch: 0 [0/60000 (0%)]\tLoss: 2.292013\n",
      "Train Epoch: 0 [6400/60000 (11%)]\tLoss: 2.292120\n",
      "Train Epoch: 0 [12800/60000 (21%)]\tLoss: 2.280278\n",
      "Train Epoch: 0 [19200/60000 (32%)]\tLoss: 2.261956\n",
      "Train Epoch: 0 [25600/60000 (43%)]\tLoss: 2.203485\n",
      "Train Epoch: 0 [32000/60000 (53%)]\tLoss: 2.100608\n",
      "Train Epoch: 0 [38400/60000 (64%)]\tLoss: 1.933639\n",
      "Train Epoch: 0 [44800/60000 (75%)]\tLoss: 1.617144\n",
      "Train Epoch: 0 [51200/60000 (85%)]\tLoss: 1.511580\n",
      "Train Epoch: 0 [57600/60000 (96%)]\tLoss: 1.108465\n",
      "7.94s\n"
     ]
    },
    {
     "name": "stderr",
     "output_type": "stream",
     "text": [
      "/home/hyeongyeolryu/anaconda3/lib/python3.7/site-packages/torch/nn/_reduction.py:46: UserWarning: size_average and reduce args will be deprecated, please use reduction='sum' instead.\n",
      "  warnings.warn(warning.format(ret))\n"
     ]
    },
    {
     "name": "stdout",
     "output_type": "stream",
     "text": [
      "\n",
      "Test set: Average loss: 0.7376, Accuracy: 8081/10000 (81%)\n",
      "\n",
      "Train Epoch: 1 [3968/60000 (7%)]\tLoss: 0.600116\n",
      "Train Epoch: 1 [10368/60000 (17%)]\tLoss: 0.559301\n",
      "Train Epoch: 1 [16768/60000 (28%)]\tLoss: 0.506299\n",
      "Train Epoch: 1 [23168/60000 (39%)]\tLoss: 0.263634\n",
      "Train Epoch: 1 [29568/60000 (49%)]\tLoss: 0.449884\n",
      "Train Epoch: 1 [35968/60000 (60%)]\tLoss: 0.441309\n",
      "Train Epoch: 1 [42368/60000 (71%)]\tLoss: 0.246064\n",
      "Train Epoch: 1 [48768/60000 (81%)]\tLoss: 0.450832\n",
      "Train Epoch: 1 [55168/60000 (92%)]\tLoss: 0.387536\n",
      "6.80s\n",
      "\n",
      "Test set: Average loss: 0.2425, Accuracy: 9317/10000 (93%)\n",
      "\n",
      "Train Epoch: 2 [1536/60000 (3%)]\tLoss: 0.243174\n",
      "Train Epoch: 2 [7936/60000 (13%)]\tLoss: 0.270951\n",
      "Train Epoch: 2 [14336/60000 (24%)]\tLoss: 0.225730\n",
      "Train Epoch: 2 [20736/60000 (35%)]\tLoss: 0.218316\n",
      "Train Epoch: 2 [27136/60000 (45%)]\tLoss: 0.228476\n",
      "Train Epoch: 2 [33536/60000 (56%)]\tLoss: 0.377624\n",
      "Train Epoch: 2 [39936/60000 (67%)]\tLoss: 0.102954\n",
      "Train Epoch: 2 [46336/60000 (77%)]\tLoss: 0.176563\n",
      "Train Epoch: 2 [52736/60000 (88%)]\tLoss: 0.130503\n",
      "Train Epoch: 2 [59136/60000 (99%)]\tLoss: 0.085294\n",
      "6.86s\n",
      "\n",
      "Test set: Average loss: 0.1580, Accuracy: 9513/10000 (95%)\n",
      "\n",
      "Train Epoch: 3 [5504/60000 (9%)]\tLoss: 0.117704\n",
      "Train Epoch: 3 [11904/60000 (20%)]\tLoss: 0.147326\n",
      "Train Epoch: 3 [18304/60000 (30%)]\tLoss: 0.045434\n",
      "Train Epoch: 3 [24704/60000 (41%)]\tLoss: 0.350655\n",
      "Train Epoch: 3 [31104/60000 (52%)]\tLoss: 0.195117\n",
      "Train Epoch: 3 [37504/60000 (62%)]\tLoss: 0.146750\n",
      "Train Epoch: 3 [43904/60000 (73%)]\tLoss: 0.216375\n",
      "Train Epoch: 3 [50304/60000 (84%)]\tLoss: 0.063049\n",
      "Train Epoch: 3 [56704/60000 (94%)]\tLoss: 0.048030\n",
      "6.77s\n",
      "\n",
      "Test set: Average loss: 0.1194, Accuracy: 9642/10000 (96%)\n",
      "\n",
      "Train Epoch: 4 [3072/60000 (5%)]\tLoss: 0.243487\n",
      "Train Epoch: 4 [9472/60000 (16%)]\tLoss: 0.116645\n",
      "Train Epoch: 4 [15872/60000 (26%)]\tLoss: 0.194336\n",
      "Train Epoch: 4 [22272/60000 (37%)]\tLoss: 0.055955\n",
      "Train Epoch: 4 [28672/60000 (48%)]\tLoss: 0.024178\n",
      "Train Epoch: 4 [35072/60000 (58%)]\tLoss: 0.037531\n",
      "Train Epoch: 4 [41472/60000 (69%)]\tLoss: 0.055505\n",
      "Train Epoch: 4 [47872/60000 (80%)]\tLoss: 0.043426\n",
      "Train Epoch: 4 [54272/60000 (90%)]\tLoss: 0.321061\n",
      "6.92s\n",
      "\n",
      "Test set: Average loss: 0.1005, Accuracy: 9696/10000 (97%)\n",
      "\n"
     ]
    }
   ],
   "source": [
    "train(5)  # train 5 epochs should get you to about 97% accuracy"
   ]
  },
  {
   "cell_type": "markdown",
   "metadata": {},
   "source": [
    "## 2. Save the model (model checkpointing)\n",
    "\n",
    "Now we have trained a model! Obviously we do not want to retrain the model everytime we want to use it. Plus if you are training a super big model, you probably want to save checkpoint periodically so that you can always fall back to the last checkpoint in case something bad happened or you simply want to test models at different training iterations.\n",
    "\n",
    "Model checkpointing is fairly simple in PyTorch. First, we define a helper function that can save a model to the disk"
   ]
  },
  {
   "cell_type": "code",
   "execution_count": 33,
   "metadata": {},
   "outputs": [],
   "source": [
    "def save_checkpoint(checkpoint_path, model, optimizer):\n",
    "    # state_dict: a Python dictionary object that:\n",
    "    # - for a model, maps each layer to its parameter tensor;\n",
    "    # - for an optimizer, contains info about the optimizer’s states and hyperparameters used.\n",
    "    state = {\n",
    "        'state_dict': model.state_dict(),\n",
    "        'optimizer' : optimizer.state_dict()}\n",
    "    torch.save(state, checkpoint_path)\n",
    "    print('model saved to %s' % checkpoint_path)\n",
    "    \n",
    "def load_checkpoint(checkpoint_path, model, optimizer):\n",
    "    state = torch.load(checkpoint_path)\n",
    "    model.load_state_dict(state['state_dict'])\n",
    "    optimizer.load_state_dict(state['optimizer'])\n",
    "    print('model loaded from %s' % checkpoint_path)"
   ]
  },
  {
   "cell_type": "code",
   "execution_count": 34,
   "metadata": {},
   "outputs": [
    {
     "name": "stdout",
     "output_type": "stream",
     "text": [
      "\n",
      "Test set: Average loss: 2.3039, Accuracy: 1009/10000 (10%)\n",
      "\n"
     ]
    }
   ],
   "source": [
    "# create a brand new model\n",
    "model = Net().to(device)\n",
    "optimizer = optim.SGD(model.parameters(), lr=0.001, momentum=0.9)\n",
    "# Testing -- you should get a pretty poor performance since the model hasn't learned anything yet.\n",
    "test()"
   ]
  },
  {
   "cell_type": "markdown",
   "metadata": {},
   "source": [
    "### Define a training loop with model checkpointing"
   ]
  },
  {
   "cell_type": "code",
   "execution_count": 35,
   "metadata": {},
   "outputs": [],
   "source": [
    "def train_save(epoch, save_interval, log_interval=100):\n",
    "    model.train()  # set training mode\n",
    "    iteration = 0\n",
    "    for ep in range(epoch):\n",
    "        for batch_idx, (data, target) in enumerate(trainset_loader):\n",
    "            data, target = data.to(device), target.to(device)\n",
    "            optimizer.zero_grad()\n",
    "            output = model(data)\n",
    "            loss = F.nll_loss(output, target)\n",
    "            loss.backward()\n",
    "            optimizer.step()\n",
    "            if iteration % log_interval == 0:\n",
    "                print('Train Epoch: {} [{}/{} ({:.0f}%)]\\tLoss: {:.6f}'.format(\n",
    "                    ep, batch_idx * len(data), len(trainset_loader.dataset),\n",
    "                    100. * batch_idx / len(trainset_loader), loss.item()))\n",
    "            # different from before: saving model checkpoints\n",
    "            if iteration % save_interval == 0 and iteration > 0:\n",
    "                save_checkpoint('mnist-%i.pth' % iteration, model, optimizer)\n",
    "            iteration += 1\n",
    "        test()\n",
    "    \n",
    "    # save the final model\n",
    "    save_checkpoint('mnist-%i.pth' % iteration, model, optimizer)"
   ]
  },
  {
   "cell_type": "code",
   "execution_count": 36,
   "metadata": {},
   "outputs": [
    {
     "name": "stdout",
     "output_type": "stream",
     "text": [
      "Train Epoch: 0 [0/60000 (0%)]\tLoss: 2.311832\n",
      "Train Epoch: 0 [6400/60000 (11%)]\tLoss: 2.295497\n",
      "Train Epoch: 0 [12800/60000 (21%)]\tLoss: 2.290381\n",
      "Train Epoch: 0 [19200/60000 (32%)]\tLoss: 2.274052\n",
      "Train Epoch: 0 [25600/60000 (43%)]\tLoss: 2.235114\n",
      "Train Epoch: 0 [32000/60000 (53%)]\tLoss: 2.225757\n",
      "model saved to mnist-500.pth\n",
      "Train Epoch: 0 [38400/60000 (64%)]\tLoss: 2.063506\n",
      "Train Epoch: 0 [44800/60000 (75%)]\tLoss: 1.716813\n",
      "Train Epoch: 0 [51200/60000 (85%)]\tLoss: 1.305585\n",
      "Train Epoch: 0 [57600/60000 (96%)]\tLoss: 1.195665\n",
      "\n",
      "Test set: Average loss: 0.7405, Accuracy: 8173/10000 (82%)\n",
      "\n",
      "Train Epoch: 1 [3968/60000 (7%)]\tLoss: 0.571326\n",
      "model saved to mnist-1000.pth\n",
      "Train Epoch: 1 [10368/60000 (17%)]\tLoss: 0.474525\n",
      "Train Epoch: 1 [16768/60000 (28%)]\tLoss: 0.279759\n",
      "Train Epoch: 1 [23168/60000 (39%)]\tLoss: 0.342561\n",
      "Train Epoch: 1 [29568/60000 (49%)]\tLoss: 0.498228\n",
      "Train Epoch: 1 [35968/60000 (60%)]\tLoss: 0.227991\n",
      "model saved to mnist-1500.pth\n",
      "Train Epoch: 1 [42368/60000 (71%)]\tLoss: 0.362709\n",
      "Train Epoch: 1 [48768/60000 (81%)]\tLoss: 0.280303\n",
      "Train Epoch: 1 [55168/60000 (92%)]\tLoss: 0.331864\n",
      "\n",
      "Test set: Average loss: 0.2439, Accuracy: 9259/10000 (93%)\n",
      "\n",
      "Train Epoch: 2 [1536/60000 (3%)]\tLoss: 0.342722\n",
      "Train Epoch: 2 [7936/60000 (13%)]\tLoss: 0.433114\n",
      "model saved to mnist-2000.pth\n",
      "Train Epoch: 2 [14336/60000 (24%)]\tLoss: 0.300764\n",
      "Train Epoch: 2 [20736/60000 (35%)]\tLoss: 0.194559\n",
      "Train Epoch: 2 [27136/60000 (45%)]\tLoss: 0.197166\n",
      "Train Epoch: 2 [33536/60000 (56%)]\tLoss: 0.163570\n",
      "Train Epoch: 2 [39936/60000 (67%)]\tLoss: 0.219465\n",
      "model saved to mnist-2500.pth\n",
      "Train Epoch: 2 [46336/60000 (77%)]\tLoss: 0.194065\n",
      "Train Epoch: 2 [52736/60000 (88%)]\tLoss: 0.101498\n",
      "Train Epoch: 2 [59136/60000 (99%)]\tLoss: 0.107442\n",
      "\n",
      "Test set: Average loss: 0.1769, Accuracy: 9459/10000 (95%)\n",
      "\n",
      "Train Epoch: 3 [5504/60000 (9%)]\tLoss: 0.219594\n",
      "Train Epoch: 3 [11904/60000 (20%)]\tLoss: 0.122360\n",
      "model saved to mnist-3000.pth\n",
      "Train Epoch: 3 [18304/60000 (30%)]\tLoss: 0.117510\n",
      "Train Epoch: 3 [24704/60000 (41%)]\tLoss: 0.092156\n",
      "Train Epoch: 3 [31104/60000 (52%)]\tLoss: 0.145849\n",
      "Train Epoch: 3 [37504/60000 (62%)]\tLoss: 0.104411\n",
      "Train Epoch: 3 [43904/60000 (73%)]\tLoss: 0.110729\n",
      "model saved to mnist-3500.pth\n",
      "Train Epoch: 3 [50304/60000 (84%)]\tLoss: 0.226427\n",
      "Train Epoch: 3 [56704/60000 (94%)]\tLoss: 0.141073\n",
      "\n",
      "Test set: Average loss: 0.1242, Accuracy: 9639/10000 (96%)\n",
      "\n",
      "Train Epoch: 4 [3072/60000 (5%)]\tLoss: 0.179568\n",
      "Train Epoch: 4 [9472/60000 (16%)]\tLoss: 0.135733\n",
      "Train Epoch: 4 [15872/60000 (26%)]\tLoss: 0.237487\n",
      "model saved to mnist-4000.pth\n",
      "Train Epoch: 4 [22272/60000 (37%)]\tLoss: 0.127516\n",
      "Train Epoch: 4 [28672/60000 (48%)]\tLoss: 0.144213\n",
      "Train Epoch: 4 [35072/60000 (58%)]\tLoss: 0.082442\n",
      "Train Epoch: 4 [41472/60000 (69%)]\tLoss: 0.148709\n",
      "Train Epoch: 4 [47872/60000 (80%)]\tLoss: 0.103242\n",
      "model saved to mnist-4500.pth\n",
      "Train Epoch: 4 [54272/60000 (90%)]\tLoss: 0.066870\n",
      "\n",
      "Test set: Average loss: 0.1066, Accuracy: 9673/10000 (97%)\n",
      "\n",
      "model saved to mnist-4690.pth\n"
     ]
    }
   ],
   "source": [
    "train_save(5, save_interval=500, log_interval=100)"
   ]
  },
  {
   "cell_type": "code",
   "execution_count": 37,
   "metadata": {},
   "outputs": [
    {
     "name": "stdout",
     "output_type": "stream",
     "text": [
      "model loaded from mnist-4690.pth\n",
      "\n",
      "Test set: Average loss: 0.1066, Accuracy: 9673/10000 (97%)\n",
      "\n"
     ]
    }
   ],
   "source": [
    "# create a new model\n",
    "model = Net().to(device)\n",
    "optimizer = optim.SGD(model.parameters(), lr=0.001, momentum=0.9)\n",
    "# load from the final checkpoint\n",
    "load_checkpoint('mnist-4690.pth', model, optimizer)\n",
    "# should give you the final model accuracy\n",
    "test()"
   ]
  },
  {
   "cell_type": "markdown",
   "metadata": {},
   "source": [
    "## 3. Fine-tune a model\n",
    "\n",
    "Sometimes you want to fine-tune a pretrained model instead of training a model from scratch. For example, if you want to train a model on a new dataset that contains natural images. To achieve the best performance, you can start with a model that's fully trained on ImageNet and fine-tune the model.\n",
    "\n",
    "Finetuning a model in PyTorch is super easy! First, let's find out what we saved in a checkpoint"
   ]
  },
  {
   "cell_type": "code",
   "execution_count": 38,
   "metadata": {},
   "outputs": [
    {
     "name": "stdout",
     "output_type": "stream",
     "text": [
      "odict_keys(['conv1.weight', 'conv1.bias', 'conv2.weight', 'conv2.bias', 'fc1.weight', 'fc1.bias', 'fc2.weight', 'fc2.bias'])\n"
     ]
    }
   ],
   "source": [
    "# What's in a state dict?\n",
    "print(model.state_dict().keys())"
   ]
  },
  {
   "cell_type": "markdown",
   "metadata": {},
   "source": [
    "### Finetune the fc layers\n",
    "\n",
    "Now say we want to load the conv layers from the checkpoint and train the fc layers. We can simply load a subset of the state dict with the selected names"
   ]
  },
  {
   "cell_type": "code",
   "execution_count": 43,
   "metadata": {},
   "outputs": [
    {
     "name": "stdout",
     "output_type": "stream",
     "text": [
      "Number of parameter variables to load: 4\n",
      "Number of parameter variables in the model: 8\n"
     ]
    }
   ],
   "source": [
    "checkpoint = torch.load('mnist-4690.pth')\n",
    "states_to_load = {}\n",
    "for name, param in checkpoint['state_dict'].items():\n",
    "    if name.startswith('conv'):\n",
    "        # only load the conv layers\n",
    "        states_to_load[name] = param\n",
    "print(\"Number of parameter variables to load:\", len(states_to_load))\n",
    "\n",
    "# Construct a new state_dict in which the layers we want\n",
    "# to import from the checkpoint is updated with the parameters\n",
    "# from the checkpoint\n",
    "model = Net().to(device)\n",
    "model_state = model.state_dict()\n",
    "print(\"Number of parameter variables in the model:\", len(model_state))\n",
    "model_state.update(states_to_load)\n",
    "        \n",
    "model.load_state_dict(model_state)\n",
    "optimizer = optim.SGD(model.parameters(), lr=0.001, momentum=0.9)"
   ]
  },
  {
   "cell_type": "code",
   "execution_count": 44,
   "metadata": {},
   "outputs": [
    {
     "name": "stderr",
     "output_type": "stream",
     "text": [
      "/home/hyeongyeolryu/anaconda3/lib/python3.7/site-packages/torch/nn/_reduction.py:46: UserWarning: size_average and reduce args will be deprecated, please use reduction='sum' instead.\n",
      "  warnings.warn(warning.format(ret))\n"
     ]
    },
    {
     "name": "stdout",
     "output_type": "stream",
     "text": [
      "\n",
      "Test set: Average loss: 2.6012, Accuracy: 1123/10000 (11%)\n",
      "\n",
      "Train Epoch: 0 [0/60000 (0%)]\tLoss: 3.572863\n",
      "Train Epoch: 0 [6400/60000 (11%)]\tLoss: 1.429830\n",
      "Train Epoch: 0 [12800/60000 (21%)]\tLoss: 1.284456\n",
      "Train Epoch: 0 [19200/60000 (32%)]\tLoss: 1.071148\n",
      "Train Epoch: 0 [25600/60000 (43%)]\tLoss: 0.980149\n",
      "Train Epoch: 0 [32000/60000 (53%)]\tLoss: 0.932409\n",
      "Train Epoch: 0 [38400/60000 (64%)]\tLoss: 0.806784\n",
      "Train Epoch: 0 [44800/60000 (75%)]\tLoss: 0.841245\n",
      "Train Epoch: 0 [51200/60000 (85%)]\tLoss: 0.510773\n",
      "Train Epoch: 0 [57600/60000 (96%)]\tLoss: 0.520260\n",
      "6.63s\n",
      "\n",
      "Test set: Average loss: 0.2614, Accuracy: 9297/10000 (93%)\n",
      "\n"
     ]
    }
   ],
   "source": [
    "test() # without fine-tuning.\n",
    "\n",
    "train(1)  # training 1 epoch will get you to 93%!\n",
    "# As a comparison, training from scratch for 1 epoch gets about ~80% test accuracy."
   ]
  },
  {
   "cell_type": "markdown",
   "metadata": {},
   "source": [
    "### Import pretrained weights in a different model\n",
    "\n",
    "We can even use the pretrained conv layers in a different model."
   ]
  },
  {
   "cell_type": "code",
   "execution_count": 45,
   "metadata": {},
   "outputs": [],
   "source": [
    "class SmallNet(nn.Module):\n",
    "    def __init__(self):\n",
    "        super(SmallNet, self).__init__()\n",
    "        # same conv layers\n",
    "        self.conv1 = nn.Conv2d(1, 10, kernel_size=5)\n",
    "        self.conv2 = nn.Conv2d(10, 20, kernel_size=5)\n",
    "        self.conv2_drop = nn.Dropout2d()\n",
    "        # fewer FC layers\n",
    "        self.fc1 = nn.Linear(320, 10)\n",
    "\n",
    "    def forward(self, x):\n",
    "        x = F.relu(F.max_pool2d(self.conv1(x), 2))\n",
    "        x = F.relu(F.max_pool2d(self.conv2_drop(self.conv2(x)), 2))\n",
    "        x = x.view(-1, 320)\n",
    "        x = self.fc1(x)\n",
    "        return F.log_softmax(x, dim=1)\n",
    "\n",
    "model = SmallNet().to(device)\n",
    "optimizer = optim.SGD(model.parameters(), lr=0.001, momentum=0.9)"
   ]
  },
  {
   "cell_type": "code",
   "execution_count": 46,
   "metadata": {},
   "outputs": [
    {
     "name": "stdout",
     "output_type": "stream",
     "text": [
      "\n",
      "Test set: Average loss: 2.3089, Accuracy: 1006/10000 (10%)\n",
      "\n"
     ]
    },
    {
     "data": {
      "text/plain": [
       "IncompatibleKeys(missing_keys=[], unexpected_keys=[])"
      ]
     },
     "execution_count": 46,
     "metadata": {},
     "output_type": "execute_result"
    }
   ],
   "source": [
    "checkpoint = torch.load('mnist-4690.pth')\n",
    "states_to_load = {}\n",
    "for name, param in checkpoint['state_dict'].items():\n",
    "    if name.startswith('conv'):\n",
    "        states_to_load[name] = param\n",
    "\n",
    "# Construct a new state dict in which the layers we want\n",
    "# to import from the checkpoint is update with the parameters\n",
    "# from the checkpoint\n",
    "model_state = model.state_dict()\n",
    "model_state.update(states_to_load)\n",
    "        \n",
    "test()\n",
    "\n",
    "model.load_state_dict(model_state)"
   ]
  },
  {
   "cell_type": "code",
   "execution_count": 47,
   "metadata": {},
   "outputs": [
    {
     "name": "stdout",
     "output_type": "stream",
     "text": [
      "Train Epoch: 0 [0/60000 (0%)]\tLoss: 5.467120\n",
      "Train Epoch: 0 [6400/60000 (11%)]\tLoss: 0.580246\n",
      "Train Epoch: 0 [12800/60000 (21%)]\tLoss: 0.277579\n",
      "Train Epoch: 0 [19200/60000 (32%)]\tLoss: 0.322334\n",
      "Train Epoch: 0 [25600/60000 (43%)]\tLoss: 0.251719\n",
      "Train Epoch: 0 [32000/60000 (53%)]\tLoss: 0.470263\n",
      "Train Epoch: 0 [38400/60000 (64%)]\tLoss: 0.184477\n",
      "Train Epoch: 0 [44800/60000 (75%)]\tLoss: 0.302694\n",
      "Train Epoch: 0 [51200/60000 (85%)]\tLoss: 0.431941\n",
      "Train Epoch: 0 [57600/60000 (96%)]\tLoss: 0.268057\n",
      "6.25s\n",
      "\n",
      "Test set: Average loss: 0.1700, Accuracy: 9497/10000 (95%)\n",
      "\n"
     ]
    }
   ],
   "source": [
    "train(1)  # training 1 epoch will get you to ~93%!"
   ]
  },
  {
   "cell_type": "markdown",
   "metadata": {},
   "source": [
    "### Clean up your code with nn.Sequential"
   ]
  },
  {
   "cell_type": "code",
   "execution_count": 48,
   "metadata": {},
   "outputs": [],
   "source": [
    "class NetSeq(nn.Module):\n",
    "    def __init__(self):\n",
    "        super(NetSeq, self).__init__()\n",
    "\n",
    "        # conv layers: feature extractor\n",
    "        self.conv_layers = nn.Sequential(\n",
    "            nn.Conv2d(1, 10, kernel_size=5),\n",
    "            nn.MaxPool2d(2),\n",
    "            nn.ReLU(),\n",
    "            nn.Conv2d(10, 20, kernel_size=5),\n",
    "            nn.Dropout2d(),\n",
    "            nn.MaxPool2d(2),\n",
    "            nn.ReLU()\n",
    "        )\n",
    "        \n",
    "        # fc layers: classifier\n",
    "        self.fc_layers = nn.Sequential(\n",
    "            nn.Linear(320, 50),\n",
    "            nn.ReLU(),\n",
    "            nn.Dropout(),\n",
    "            nn.Linear(50, 10),\n",
    "        )\n",
    "\n",
    "    def forward(self, x):\n",
    "        x = self.conv_layers(x)\n",
    "        x = x.view(-1, 320)\n",
    "        x = self.fc_layers(x)\n",
    "        return F.log_softmax(x, dim=1)\n",
    "\n",
    "model = NetSeq().to(device)\n",
    "optimizer = optim.SGD(model.parameters(), lr=0.001, momentum=0.9)"
   ]
  },
  {
   "cell_type": "code",
   "execution_count": 49,
   "metadata": {},
   "outputs": [
    {
     "name": "stdout",
     "output_type": "stream",
     "text": [
      "Train Epoch: 0 [0/60000 (0%)]\tLoss: 2.282364\n",
      "Train Epoch: 0 [6400/60000 (11%)]\tLoss: 2.290202\n",
      "Train Epoch: 0 [12800/60000 (21%)]\tLoss: 2.280451\n",
      "Train Epoch: 0 [19200/60000 (32%)]\tLoss: 2.268769\n",
      "Train Epoch: 0 [25600/60000 (43%)]\tLoss: 2.241888\n",
      "Train Epoch: 0 [32000/60000 (53%)]\tLoss: 2.120140\n",
      "Train Epoch: 0 [38400/60000 (64%)]\tLoss: 1.994670\n",
      "Train Epoch: 0 [44800/60000 (75%)]\tLoss: 1.487058\n",
      "Train Epoch: 0 [51200/60000 (85%)]\tLoss: 1.366698\n",
      "Train Epoch: 0 [57600/60000 (96%)]\tLoss: 1.217837\n",
      "8.07s\n",
      "\n",
      "Test set: Average loss: 0.7499, Accuracy: 8139/10000 (81%)\n",
      "\n",
      "Train Epoch: 1 [3968/60000 (7%)]\tLoss: 0.552527\n",
      "Train Epoch: 1 [10368/60000 (17%)]\tLoss: 0.593291\n",
      "Train Epoch: 1 [16768/60000 (28%)]\tLoss: 0.481255\n",
      "Train Epoch: 1 [23168/60000 (39%)]\tLoss: 0.478290\n",
      "Train Epoch: 1 [29568/60000 (49%)]\tLoss: 0.179947\n",
      "Train Epoch: 1 [35968/60000 (60%)]\tLoss: 0.224201\n",
      "Train Epoch: 1 [42368/60000 (71%)]\tLoss: 0.364262\n",
      "Train Epoch: 1 [48768/60000 (81%)]\tLoss: 0.252499\n",
      "Train Epoch: 1 [55168/60000 (92%)]\tLoss: 0.420123\n",
      "6.32s\n",
      "\n",
      "Test set: Average loss: 0.2388, Accuracy: 9293/10000 (93%)\n",
      "\n",
      "Train Epoch: 2 [1536/60000 (3%)]\tLoss: 0.243707\n",
      "Train Epoch: 2 [7936/60000 (13%)]\tLoss: 0.073878\n",
      "Train Epoch: 2 [14336/60000 (24%)]\tLoss: 0.241064\n",
      "Train Epoch: 2 [20736/60000 (35%)]\tLoss: 0.163734\n",
      "Train Epoch: 2 [27136/60000 (45%)]\tLoss: 0.141084\n",
      "Train Epoch: 2 [33536/60000 (56%)]\tLoss: 0.101910\n",
      "Train Epoch: 2 [39936/60000 (67%)]\tLoss: 0.216057\n",
      "Train Epoch: 2 [46336/60000 (77%)]\tLoss: 0.200736\n",
      "Train Epoch: 2 [52736/60000 (88%)]\tLoss: 0.266136\n",
      "Train Epoch: 2 [59136/60000 (99%)]\tLoss: 0.287666\n",
      "6.29s\n",
      "\n",
      "Test set: Average loss: 0.1635, Accuracy: 9502/10000 (95%)\n",
      "\n",
      "Train Epoch: 3 [5504/60000 (9%)]\tLoss: 0.088996\n",
      "Train Epoch: 3 [11904/60000 (20%)]\tLoss: 0.178108\n",
      "Train Epoch: 3 [18304/60000 (30%)]\tLoss: 0.081489\n",
      "Train Epoch: 3 [24704/60000 (41%)]\tLoss: 0.176952\n",
      "Train Epoch: 3 [31104/60000 (52%)]\tLoss: 0.146161\n",
      "Train Epoch: 3 [37504/60000 (62%)]\tLoss: 0.124661\n",
      "Train Epoch: 3 [43904/60000 (73%)]\tLoss: 0.170944\n",
      "Train Epoch: 3 [50304/60000 (84%)]\tLoss: 0.046769\n",
      "Train Epoch: 3 [56704/60000 (94%)]\tLoss: 0.105382\n",
      "6.40s\n",
      "\n",
      "Test set: Average loss: 0.1201, Accuracy: 9649/10000 (96%)\n",
      "\n",
      "Train Epoch: 4 [3072/60000 (5%)]\tLoss: 0.102386\n",
      "Train Epoch: 4 [9472/60000 (16%)]\tLoss: 0.051716\n",
      "Train Epoch: 4 [15872/60000 (26%)]\tLoss: 0.099556\n",
      "Train Epoch: 4 [22272/60000 (37%)]\tLoss: 0.067702\n",
      "Train Epoch: 4 [28672/60000 (48%)]\tLoss: 0.036138\n",
      "Train Epoch: 4 [35072/60000 (58%)]\tLoss: 0.096497\n",
      "Train Epoch: 4 [41472/60000 (69%)]\tLoss: 0.247079\n",
      "Train Epoch: 4 [47872/60000 (80%)]\tLoss: 0.280323\n",
      "Train Epoch: 4 [54272/60000 (90%)]\tLoss: 0.139067\n",
      "6.36s\n",
      "\n",
      "Test set: Average loss: 0.0958, Accuracy: 9709/10000 (97%)\n",
      "\n"
     ]
    }
   ],
   "source": [
    "train(5)"
   ]
  }
 ],
 "metadata": {
  "kernelspec": {
   "display_name": "Python 3",
   "language": "python",
   "name": "python3"
  },
  "language_info": {
   "codemirror_mode": {
    "name": "ipython",
    "version": 3
   },
   "file_extension": ".py",
   "mimetype": "text/x-python",
   "name": "python",
   "nbconvert_exporter": "python",
   "pygments_lexer": "ipython3",
   "version": "3.7.3"
  }
 },
 "nbformat": 4,
 "nbformat_minor": 1
}
